{
  "nbformat": 4,
  "nbformat_minor": 0,
  "metadata": {
    "colab": {
      "provenance": []
    },
    "kernelspec": {
      "name": "python3",
      "display_name": "Python 3"
    },
    "language_info": {
      "name": "python"
    }
  },
  "cells": [
    {
      "cell_type": "code",
      "source": [
        "import sklearn"
      ],
      "metadata": {
        "id": "YBwtVWjR8aZk"
      },
      "execution_count": null,
      "outputs": []
    },
    {
      "cell_type": "code",
      "source": [
        "import tensorflow"
      ],
      "metadata": {
        "id": "SLX0UIqB8eHb"
      },
      "execution_count": null,
      "outputs": []
    },
    {
      "cell_type": "code",
      "source": [
        "bream_length = [25.4, 26.3, 26.5, 29.0, 29.0, 29.7, 29.7, 30.0, 30.0, 30.7, 31.0, 31.0,\n",
        "                31.5, 32.0, 32.0, 32.0, 33.0, 33.0, 33.5, 33.5, 34.0, 34.0, 34.5, 35.0,\n",
        "                35.0, 35.0, 35.0, 36.0, 36.0, 37.0, 38.5, 38.5, 39.5, 41.0, 41.0]\n",
        "bream_weight = [242.0, 290.0, 340.0, 363.0, 430.0, 450.0, 500.0, 390.0, 450.0, 500.0, 475.0, 500.0,\n",
        "                500.0, 340.0, 600.0, 600.0, 700.0, 700.0, 610.0, 650.0, 575.0, 685.0, 620.0, 680.0,\n",
        "                700.0, 725.0, 720.0, 714.0, 850.0, 1000.0, 920.0, 955.0, 925.0, 975.0, 950.0]\n",
        "                # 도미 데이터 삽입\n",
        "\n",
        "smelt_length = [9.8, 10.5, 10.6, 11.0, 11.2, 11.3, 11.8, 11.8, 12.0, 12.2, 12.4, 13.0, 14.3, 15.0]\n",
        "smelt_weight = [6.7, 7.5, 7.0, 9.7, 9.8, 8.7, 10.0, 9.9, 9.8, 12.2, 13.4, 12.2, 19.7, 19.9]\n",
        "\n",
        "# 빙어 데이터 삽입"
      ],
      "metadata": {
        "id": "2j2tUHLzDfy-"
      },
      "execution_count": null,
      "outputs": []
    },
    {
      "cell_type": "code",
      "source": [],
      "metadata": {
        "id": "yTucXXwpjEY3"
      },
      "execution_count": null,
      "outputs": []
    },
    {
      "cell_type": "code",
      "source": [
        "import matplotlib.pyplot as plt\n",
        "\n",
        "plt.scatter(bream_length , bream_weight)\n",
        "plt.scatter(smelt_length , smelt_weight)\n",
        "plt.xlabel('length')\n",
        "plt.ylabel('weight')\n",
        "plt.show()\n"
      ],
      "metadata": {
        "colab": {
          "base_uri": "https://localhost:8080/",
          "height": 449
        },
        "id": "P81MhZrzDBA_",
        "outputId": "4e3cfe0d-e1da-4cd0-e175-edc7d5a67bc3"
      },
      "execution_count": null,
      "outputs": [
        {
          "output_type": "display_data",
          "data": {
            "text/plain": [
              "<Figure size 640x480 with 1 Axes>"
            ],
            "image/png": "[encoded data removed]"
          },
          "metadata": {}
        }
      ]
    },
    {
      "cell_type": "code",
      "source": [
        "smelt_length = [9.8, 10.5, 10.6, 11.0, 11.2, 11.3, 11.8, 11.8, 12.0, 12.2, 12.4, 13.0, 14.3, 15.0]\n",
        "smelt_weight = [6.7, 7.5, 7.0, 9.7, 9.8, 8.7, 10.0, 9.9, 9.8, 12.2, 13.4, 12.2, 19.7, 19.9]\n",
        "\n",
        "# 빙어 데이터 삽입"
      ],
      "metadata": {
        "id": "_Kthj7HPD8to"
      },
      "execution_count": null,
      "outputs": []
    },
    {
      "cell_type": "code",
      "source": [
        "fish_length = bream_length + smelt_length\n",
        "fish_weight = bream_weight + smelt_weight\n",
        "\n",
        "fish_data = [[l,w] for l,w in zip(fish_length, fish_weight)]\n",
        "\n",
        "fish_target=[1]*35+[0]*14\n",
        "\n",
        "from sklearn.neighbors import KNeighborsClassifier\n",
        "kn = KNeighborsClassifier()\n",
        "kn.fit(fish_data, fish_target)\n",
        "kn.score(fish_data, fish_target)\n"
      ],
      "metadata": {
        "colab": {
          "base_uri": "https://localhost:8080/"
        },
        "id": "OeLqnG82EtPc",
        "outputId": "6b2372b5-e3c8-4819-d22d-406ac08d88de"
      },
      "execution_count": null,
      "outputs": [
        {
          "output_type": "execute_result",
          "data": {
            "text/plain": [
              "1.0"
            ]
          },
          "metadata": {},
          "execution_count": 7
        }
      ]
    },
    {
      "cell_type": "code",
      "source": [
        "kn.predict([[30,600]])"
      ],
      "metadata": {
        "colab": {
          "base_uri": "https://localhost:8080/"
        },
        "id": "U5G7xqYnGSyf",
        "outputId": "73777a7d-3e9a-4da8-a8cd-8a2c0e49c3c4"
      },
      "execution_count": null,
      "outputs": [
        {
          "output_type": "execute_result",
          "data": {
            "text/plain": [
              "array([1])"
            ]
          },
          "metadata": {},
          "execution_count": 8
        }
      ]
    },
    {
      "cell_type": "code",
      "source": [
        "kn49=KNeighborsClassifier(n_neighbors=49)\n",
        "\n",
        "kn49.fit(fish_data,fish_target)\n",
        "kn49.score(fish_data,fish_target)"
      ],
      "metadata": {
        "colab": {
          "base_uri": "https://localhost:8080/"
        },
        "id": "bQqSflr1KpWG",
        "outputId": "3b62e0d9-358a-4093-f56d-681e3e8cd5c3"
      },
      "execution_count": null,
      "outputs": [
        {
          "output_type": "execute_result",
          "data": {
            "text/plain": [
              "0.7142857142857143"
            ]
          },
          "metadata": {},
          "execution_count": 9
        }
      ]
    },
    {
      "cell_type": "code",
      "source": [
        "import numpy as np\n",
        "\n",
        "input_arr=np.array(fish_data)\n",
        "target_arr=np.array(fish_target)\n",
        "\n",
        "print(input_arr)"
      ],
      "metadata": {
        "colab": {
          "base_uri": "https://localhost:8080/"
        },
        "id": "3cfdRO15xmvr",
        "outputId": "cf236130-e0df-49f7-df63-e40608b14f48"
      },
      "execution_count": null,
      "outputs": [
        {
          "output_type": "stream",
          "name": "stdout",
          "text": [
            "[[  25.4  242. ]\n",
            " [  26.3  290. ]\n",
            " [  26.5  340. ]\n",
            " [  29.   363. ]\n",
            " [  29.   430. ]\n",
            " [  29.7  450. ]\n",
            " [  29.7  500. ]\n",
            " [  30.   390. ]\n",
            " [  30.   450. ]\n",
            " [  30.7  500. ]\n",
            " [  31.   475. ]\n",
            " [  31.   500. ]\n",
            " [  31.5  500. ]\n",
            " [  32.   340. ]\n",
            " [  32.   600. ]\n",
            " [  32.   600. ]\n",
            " [  33.   700. ]\n",
            " [  33.   700. ]\n",
            " [  33.5  610. ]\n",
            " [  33.5  650. ]\n",
            " [  34.   575. ]\n",
            " [  34.   685. ]\n",
            " [  34.5  620. ]\n",
            " [  35.   680. ]\n",
            " [  35.   700. ]\n",
            " [  35.   725. ]\n",
            " [  35.   720. ]\n",
            " [  36.   714. ]\n",
            " [  36.   850. ]\n",
            " [  37.  1000. ]\n",
            " [  38.5  920. ]\n",
            " [  38.5  955. ]\n",
            " [  39.5  925. ]\n",
            " [  41.   975. ]\n",
            " [  41.   950. ]\n",
            " [   9.8    6.7]\n",
            " [  10.5    7.5]\n",
            " [  10.6    7. ]\n",
            " [  11.     9.7]\n",
            " [  11.2    9.8]\n",
            " [  11.3    8.7]\n",
            " [  11.8   10. ]\n",
            " [  11.8    9.9]\n",
            " [  12.     9.8]\n",
            " [  12.2   12.2]\n",
            " [  12.4   13.4]\n",
            " [  13.    12.2]\n",
            " [  14.3   19.7]\n",
            " [  15.    19.9]]\n"
          ]
        }
      ]
    },
    {
      "cell_type": "code",
      "source": [
        "index=np.arange(49)\n",
        "np.random.shuffle(index)\n",
        "train_input= input_arr[index[:35]]\n",
        "train_target= target_arr[index[:35]]\n",
        "\n",
        "test_input= input_arr[index[35:]]\n",
        "test_target= target_arr[index[35:]]\n",
        "\n",
        "#print(index)\n",
        "print(train_input)"
      ],
      "metadata": {
        "colab": {
          "base_uri": "https://localhost:8080/"
        },
        "id": "B52Ktq231fBM",
        "outputId": "de0d5a65-d49b-4d6a-98ca-141df649dcda"
      },
      "execution_count": null,
      "outputs": [
        {
          "output_type": "stream",
          "name": "stdout",
          "text": [
            "[[  37.  1000. ]\n",
            " [  30.   390. ]\n",
            " [  12.2   12.2]\n",
            " [  31.   475. ]\n",
            " [  35.   680. ]\n",
            " [  36.   714. ]\n",
            " [  11.     9.7]\n",
            " [  10.6    7. ]\n",
            " [  26.3  290. ]\n",
            " [  34.   575. ]\n",
            " [  32.   600. ]\n",
            " [  12.     9.8]\n",
            " [  30.   450. ]\n",
            " [  11.8   10. ]\n",
            " [  14.3   19.7]\n",
            " [  41.   975. ]\n",
            " [  30.7  500. ]\n",
            " [  32.   600. ]\n",
            " [   9.8    6.7]\n",
            " [  38.5  920. ]\n",
            " [  11.8    9.9]\n",
            " [  29.   430. ]\n",
            " [  32.   340. ]\n",
            " [  29.7  450. ]\n",
            " [  11.2    9.8]\n",
            " [  33.   700. ]\n",
            " [  11.3    8.7]\n",
            " [  35.   700. ]\n",
            " [  29.   363. ]\n",
            " [  31.5  500. ]\n",
            " [  25.4  242. ]\n",
            " [  12.4   13.4]\n",
            " [  34.5  620. ]\n",
            " [  33.5  650. ]\n",
            " [  35.   720. ]]\n"
          ]
        }
      ]
    },
    {
      "cell_type": "code",
      "source": [
        "import matplotlib.pyplot as plt\n",
        "\n",
        "plt.scatter(train_input[:,0],train_input[:,1])\n",
        "plt.scatter(test_input[:,0],test_input[:,1])\n",
        "\n",
        "plt.xlabel('length')\n",
        "plt.ylabel('weight')"
      ],
      "metadata": {
        "colab": {
          "base_uri": "https://localhost:8080/",
          "height": 467
        },
        "id": "E4A50W9Z3ccI",
        "outputId": "49d737ea-6e15-43fb-ab66-6eee2b926c17"
      },
      "execution_count": null,
      "outputs": [
        {
          "output_type": "execute_result",
          "data": {
            "text/plain": [
              "Text(0, 0.5, 'weight')"
            ]
          },
          "metadata": {},
          "execution_count": 12
        },
        {
          "output_type": "display_data",
          "data": {
            "text/plain": [
              "<Figure size 640x480 with 1 Axes>"
            ],
            "image/png": "[encoded data removed]"
          },
          "metadata": {}
        }
      ]
    },
    {
      "cell_type": "code",
      "source": [
        "kn=kn.fit(train_input,train_target)\n",
        "kn.score(test_input,test_target)"
      ],
      "metadata": {
        "colab": {
          "base_uri": "https://localhost:8080/"
        },
        "id": "EIOziHIP4dbY",
        "outputId": "0855e669-3432-438d-d7b3-25cb718973c6"
      },
      "execution_count": null,
      "outputs": [
        {
          "output_type": "execute_result",
          "data": {
            "text/plain": [
              "1.0"
            ]
          },
          "metadata": {},
          "execution_count": 13
        }
      ]
    },
    {
      "cell_type": "code",
      "source": [
        "fish_data=np.column_stack((fish_length,fish_weight))\n",
        "\n",
        "fish_data"
      ],
      "metadata": {
        "id": "x5qTcwE5xMdi",
        "colab": {
          "base_uri": "https://localhost:8080/"
        },
        "outputId": "11e1042d-568d-48e1-d7d4-73109ac81486"
      },
      "execution_count": null,
      "outputs": [
        {
          "output_type": "execute_result",
          "data": {
            "text/plain": [
              "array([[  25.4,  242. ],\n",
              "       [  26.3,  290. ],\n",
              "       [  26.5,  340. ],\n",
              "       [  29. ,  363. ],\n",
              "       [  29. ,  430. ],\n",
              "       [  29.7,  450. ],\n",
              "       [  29.7,  500. ],\n",
              "       [  30. ,  390. ],\n",
              "       [  30. ,  450. ],\n",
              "       [  30.7,  500. ],\n",
              "       [  31. ,  475. ],\n",
              "       [  31. ,  500. ],\n",
              "       [  31.5,  500. ],\n",
              "       [  32. ,  340. ],\n",
              "       [  32. ,  600. ],\n",
              "       [  32. ,  600. ],\n",
              "       [  33. ,  700. ],\n",
              "       [  33. ,  700. ],\n",
              "       [  33.5,  610. ],\n",
              "       [  33.5,  650. ],\n",
              "       [  34. ,  575. ],\n",
              "       [  34. ,  685. ],\n",
              "       [  34.5,  620. ],\n",
              "       [  35. ,  680. ],\n",
              "       [  35. ,  700. ],\n",
              "       [  35. ,  725. ],\n",
              "       [  35. ,  720. ],\n",
              "       [  36. ,  714. ],\n",
              "       [  36. ,  850. ],\n",
              "       [  37. , 1000. ],\n",
              "       [  38.5,  920. ],\n",
              "       [  38.5,  955. ],\n",
              "       [  39.5,  925. ],\n",
              "       [  41. ,  975. ],\n",
              "       [  41. ,  950. ],\n",
              "       [   9.8,    6.7],\n",
              "       [  10.5,    7.5],\n",
              "       [  10.6,    7. ],\n",
              "       [  11. ,    9.7],\n",
              "       [  11.2,    9.8],\n",
              "       [  11.3,    8.7],\n",
              "       [  11.8,   10. ],\n",
              "       [  11.8,    9.9],\n",
              "       [  12. ,    9.8],\n",
              "       [  12.2,   12.2],\n",
              "       [  12.4,   13.4],\n",
              "       [  13. ,   12.2],\n",
              "       [  14.3,   19.7],\n",
              "       [  15. ,   19.9]])"
            ]
          },
          "metadata": {},
          "execution_count": 14
        }
      ]
    },
    {
      "cell_type": "code",
      "source": [
        "fish_target=np.concatenate((np.ones(35),np.zeros(14)))\n",
        "\n",
        "fish_target"
      ],
      "metadata": {
        "id": "g-J2Mbb7yv_n",
        "colab": {
          "base_uri": "https://localhost:8080/"
        },
        "outputId": "f48171ed-4a5b-4821-b0d8-b8d68024240c"
      },
      "execution_count": null,
      "outputs": [
        {
          "output_type": "execute_result",
          "data": {
            "text/plain": [
              "array([1., 1., 1., 1., 1., 1., 1., 1., 1., 1., 1., 1., 1., 1., 1., 1., 1.,\n",
              "       1., 1., 1., 1., 1., 1., 1., 1., 1., 1., 1., 1., 1., 1., 1., 1., 1.,\n",
              "       1., 0., 0., 0., 0., 0., 0., 0., 0., 0., 0., 0., 0., 0., 0.])"
            ]
          },
          "metadata": {},
          "execution_count": 15
        }
      ]
    },
    {
      "cell_type": "markdown",
      "source": [],
      "metadata": {
        "id": "M72Q_9Kg9mpR"
      }
    },
    {
      "cell_type": "code",
      "source": [
        "from sklearn.model_selection import train_test_split\n",
        "\n",
        "train_input, test_input, train_target, test_target=train_test_split(\n",
        "    fish_data,fish_target,stratify=fish_target, random_state=42)"
      ],
      "metadata": {
        "id": "RMcjV7fL0QII"
      },
      "execution_count": null,
      "outputs": []
    },
    {
      "cell_type": "markdown",
      "source": [
        "stratify 쓰는 이유 :"
      ],
      "metadata": {
        "id": "NOngINzB9p1o"
      }
    },
    {
      "cell_type": "code",
      "source": [
        "from sklearn.neighbors import KNeighborsClassifier\n",
        "\n",
        "kn=KNeighborsClassifier()\n",
        "\n",
        "kn.fit(train_input,train_target)\n",
        "kn.score(test_input,test_target)"
      ],
      "metadata": {
        "colab": {
          "base_uri": "https://localhost:8080/"
        },
        "id": "9t5aj6SO6CcC",
        "outputId": "22fcea68-9d40-4476-9489-d739cf17b9bd"
      },
      "execution_count": null,
      "outputs": [
        {
          "output_type": "execute_result",
          "data": {
            "text/plain": [
              "1.0"
            ]
          },
          "metadata": {},
          "execution_count": 17
        }
      ]
    },
    {
      "cell_type": "code",
      "source": [
        "print(kn.predict([[25,150]]))"
      ],
      "metadata": {
        "colab": {
          "base_uri": "https://localhost:8080/"
        },
        "id": "wkk9JceL7Do8",
        "outputId": "307af0b0-4daf-449e-b624-6148d1da448c"
      },
      "execution_count": null,
      "outputs": [
        {
          "output_type": "stream",
          "name": "stdout",
          "text": [
            "[0.]\n"
          ]
        }
      ]
    },
    {
      "cell_type": "code",
      "source": [
        "distances,indexes=kn.kneighbors([[25,150]])\n",
        "\n",
        "plt.scatter(train_input[:,0],train_input[:,1])\n",
        "plt.scatter(25,150,marker='^')\n",
        "plt.scatter(train_input[indexes,0],train_input[indexes,1],\n",
        "            marker='D')\n",
        "plt.xlabel('length')\n",
        "plt.ylabel('weight')\n",
        "plt.show()"
      ],
      "metadata": {
        "colab": {
          "base_uri": "https://localhost:8080/",
          "height": 449
        },
        "id": "GN45kgjq7LdG",
        "outputId": "55bb5bd6-87ac-4b4e-c24a-5ce7cf4dfb37"
      },
      "execution_count": null,
      "outputs": [
        {
          "output_type": "display_data",
          "data": {
            "text/plain": [
              "<Figure size 640x480 with 1 Axes>"
            ],
            "image/png": "[encoded data removed]"
          },
          "metadata": {}
        }
      ]
    },
    {
      "cell_type": "code",
      "source": [
        "plt.scatter(train_input[:,0],train_input[:,1])\n",
        "plt.scatter(25,150,marker='^')\n",
        "plt.scatter(train_input[indexes,0],train_input[indexes,1],\n",
        "            marker='D')\n",
        "plt.xlim(0,1000)\n",
        "plt.xlabel('length')\n",
        "plt.ylabel('weight')\n",
        "plt.show()"
      ],
      "metadata": {
        "colab": {
          "base_uri": "https://localhost:8080/",
          "height": 449
        },
        "id": "DWNggpnBAoPF",
        "outputId": "21249e3b-89c5-42c9-98e1-fa87d339a09d"
      },
      "execution_count": null,
      "outputs": [
        {
          "output_type": "display_data",
          "data": {
            "text/plain": [
              "<Figure size 640x480 with 1 Axes>"
            ],
            "image/png": "[encoded data removed]"
          },
          "metadata": {}
        }
      ]
    },
    {
      "cell_type": "code",
      "source": [
        "mean=np.mean(train_input,axis=0)\n",
        "std=np.std(train_input,axis=0)\n",
        "\n",
        "print(mean,std)"
      ],
      "metadata": {
        "colab": {
          "base_uri": "https://localhost:8080/"
        },
        "id": "UJH41i8ACN7v",
        "outputId": "4f4021fa-d520-4518-9685-2e553ebef918"
      },
      "execution_count": null,
      "outputs": [
        {
          "output_type": "stream",
          "name": "stdout",
          "text": [
            "[ 27.29722222 454.09722222] [  9.98244253 323.29893931]\n"
          ]
        }
      ]
    },
    {
      "cell_type": "code",
      "source": [
        "train_scaled=(train_input-mean)/std\n",
        "\n",
        "print(train_scaled)"
      ],
      "metadata": {
        "colab": {
          "base_uri": "https://localhost:8080/"
        },
        "id": "7neWPDDNC4VQ",
        "outputId": "c691c987-be2a-4e0e-8662-9c51849aaab6"
      },
      "execution_count": null,
      "outputs": [
        {
          "output_type": "stream",
          "name": "stdout",
          "text": [
            "[[ 0.24070039  0.14198246]\n",
            " [-1.51237757 -1.36683783]\n",
            " [ 0.5712808   0.76060496]\n",
            " [-1.60253587 -1.37766373]\n",
            " [ 1.22242404  1.45655528]\n",
            " [ 0.17057727 -0.07453542]\n",
            " [ 0.87180845  0.80390854]\n",
            " [ 0.87180845  1.22457184]\n",
            " [ 0.37092904  0.06465464]\n",
            " [ 0.77163257  0.82246721]\n",
            " [ 0.97198434  1.68853872]\n",
            " [-1.61255346 -1.3742613 ]\n",
            " [ 0.72154463  0.51315596]\n",
            " [-1.53241275 -1.3742613 ]\n",
            " [ 0.17057727 -0.28177396]\n",
            " [ 0.5712808   0.76060496]\n",
            " [ 0.34087627  0.14198246]\n",
            " [ 1.12224816  1.54934866]\n",
            " [ 0.62136874  0.60594934]\n",
            " [-1.30200822 -1.34363949]\n",
            " [ 0.42101698  0.14198246]\n",
            " [-0.19005591 -0.65604058]\n",
            " [-1.75279969 -1.38384995]\n",
            " [ 0.47110492  0.45129371]\n",
            " [-1.68267658 -1.38137546]\n",
            " [ 0.62136874  0.48222484]\n",
            " [-1.67265899 -1.38292202]\n",
            " [ 0.77163257  0.76060496]\n",
            " [ 0.47110492  0.45129371]\n",
            " [ 0.77163257  0.83793278]\n",
            " [-1.43223687 -1.36683783]\n",
            " [ 0.27075315 -0.01267317]\n",
            " [ 0.47110492 -0.35291555]\n",
            " [-1.2318851  -1.34302087]\n",
            " [ 0.27075315 -0.19825992]\n",
            " [ 1.37268787  1.61121091]]\n"
          ]
        }
      ]
    },
    {
      "cell_type": "code",
      "source": [
        "new =([25,150]-mean)/std\n",
        "plt.scatter(train_scaled[:,0],train_scaled[:,1])\n",
        "plt.scatter(new[0],new[1],marker='^')\n",
        "plt.xlabel('length')\n",
        "plt.ylabel('weight')\n",
        "plt.show()"
      ],
      "metadata": {
        "colab": {
          "base_uri": "https://localhost:8080/",
          "height": 449
        },
        "id": "CIADIqMWD7C8",
        "outputId": "0875353b-3f9d-4f70-d1b1-0de9c9779203"
      },
      "execution_count": null,
      "outputs": [
        {
          "output_type": "display_data",
          "data": {
            "text/plain": [
              "<Figure size 640x480 with 1 Axes>"
            ],
            "image/png": "[encoded data removed]"
          },
          "metadata": {}
        }
      ]
    },
    {
      "cell_type": "code",
      "execution_count": null,
      "metadata": {
        "id": "G_jwm_ouQKQ7"
      },
      "outputs": [],
      "source": [
        "distances, indexes = kn.kneighbors([[25, 150]])"
      ]
    },
    {
      "cell_type": "code",
      "source": [
        "plt.scatter(train_input[:,0], train_input[:,1])\n",
        "plt.scatter(25, 150, marker='^')\n",
        "plt.scatter(train_input[indexes,0], train_input[indexes,1], marker='D')\n",
        "plt.xlabel('length')\n",
        "plt.ylabel('weight')\n",
        "plt.show()"
      ],
      "metadata": {
        "colab": {
          "base_uri": "https://localhost:8080/",
          "height": 449
        },
        "id": "CsdyOHgjt9MF",
        "outputId": "cbcfaf7a-3e45-46be-d0e8-af4f024b1d4b"
      },
      "execution_count": null,
      "outputs": [
        {
          "output_type": "display_data",
          "data": {
            "text/plain": [
              "<Figure size 640x480 with 1 Axes>"
            ],
            "image/png": "[encoded data removed]"
          },
          "metadata": {}
        }
      ]
    },
    {
      "cell_type": "markdown",
      "source": [
        "# 농어 예측하기"
      ],
      "metadata": {
        "id": "srND1g8UvwTh"
      }
    },
    {
      "cell_type": "code",
      "source": [
        "perch_length = np.array([8.4, 13.7, 15.0, 16.2, 17.4, 18.0, 18.7, 19.0, 19.6, 20.0, 21.0,\n",
        "       21.0, 21.0, 21.3, 22.0, 22.0, 22.0, 22.0, 22.0, 22.5, 22.5, 22.7,\n",
        "       23.0, 23.5, 24.0, 24.0, 24.6, 25.0, 25.6, 26.5, 27.3, 27.5, 27.5,\n",
        "       27.5, 28.0, 28.7, 30.0, 32.8, 34.5, 35.0, 36.5, 36.0, 37.0, 37.0,\n",
        "       39.0, 39.0, 39.0, 40.0, 40.0, 40.0, 40.0, 42.0, 43.0, 43.0, 43.5,\n",
        "       44.0])\n",
        "perch_weight = np.array([5.9, 32.0, 40.0, 51.5, 70.0, 100.0, 78.0, 80.0, 85.0, 85.0, 110.0,\n",
        "       115.0, 125.0, 130.0, 120.0, 120.0, 130.0, 135.0, 110.0, 130.0,\n",
        "       150.0, 145.0, 150.0, 170.0, 225.0, 145.0, 188.0, 180.0, 197.0,\n",
        "       218.0, 300.0, 260.0, 265.0, 250.0, 250.0, 300.0, 320.0, 514.0,\n",
        "       556.0, 840.0, 685.0, 700.0, 700.0, 690.0, 900.0, 650.0, 820.0,\n",
        "       850.0, 900.0, 1015.0, 820.0, 1100.0, 1000.0, 1100.0, 1000.0,\n",
        "       1000.0])"
      ],
      "metadata": {
        "id": "RaL7sBtq3dRt"
      },
      "execution_count": null,
      "outputs": []
    },
    {
      "cell_type": "code",
      "source": [
        "import matplotlib.pyplot as plt\n",
        "\n",
        "plt.scatter(perch_length,perch_weight)\n",
        "plt.xlabel('length')\n",
        "plt.xlabel('weight')\n",
        "plt.show()"
      ],
      "metadata": {
        "colab": {
          "base_uri": "https://localhost:8080/",
          "height": 449
        },
        "id": "FHWOy4U5vU5B",
        "outputId": "573fe458-ff54-4fbf-eaae-29d30509e952"
      },
      "execution_count": null,
      "outputs": [
        {
          "output_type": "display_data",
          "data": {
            "text/plain": [
              "<Figure size 640x480 with 1 Axes>"
            ],
            "image/png": "[encoded data removed]"
          },
          "metadata": {}
        }
      ]
    },
    {
      "cell_type": "code",
      "source": [
        "from sklearn.model_selection import train_test_split\n",
        "\n",
        "train_input, test_input, train_target, test_target=train_test_split(\n",
        "    perch_length,perch_weight, random_state=42)\n",
        "\n",
        "train_input=train_input.reshape(-1,1)\n",
        "test_input=test_input.reshape(-1,1)\n"
      ],
      "metadata": {
        "id": "C10OiFaQv3qX"
      },
      "execution_count": null,
      "outputs": []
    },
    {
      "cell_type": "code",
      "source": [
        "print(train_input.shape)"
      ],
      "metadata": {
        "colab": {
          "base_uri": "https://localhost:8080/"
        },
        "id": "L7pkuklKs9iI",
        "outputId": "2251062c-fff2-46bb-802d-e5b7db602032"
      },
      "execution_count": null,
      "outputs": [
        {
          "output_type": "stream",
          "name": "stdout",
          "text": [
            "(42, 1)\n"
          ]
        }
      ]
    },
    {
      "cell_type": "code",
      "source": [
        "print(train_target.shape)"
      ],
      "metadata": {
        "colab": {
          "base_uri": "https://localhost:8080/"
        },
        "id": "jcEQ7S7MtCeH",
        "outputId": "d31553f7-b58c-46bc-df44-b93ab5230c8e"
      },
      "execution_count": null,
      "outputs": [
        {
          "output_type": "stream",
          "name": "stdout",
          "text": [
            "(42,)\n"
          ]
        }
      ]
    },
    {
      "cell_type": "code",
      "source": [
        "from sklearn.neighbors import KNeighborsRegressor\n",
        "\n",
        "knr=KNeighborsRegressor()\n",
        "\n",
        "knr.fit(train_input,train_target)\n",
        "knr.score(test_input,test_target)"
      ],
      "metadata": {
        "colab": {
          "base_uri": "https://localhost:8080/"
        },
        "id": "yvCQvSfGw7ZP",
        "outputId": "8660f518-b281-4114-a683-4a4c7b9e72ab"
      },
      "execution_count": null,
      "outputs": [
        {
          "output_type": "execute_result",
          "data": {
            "text/plain": [
              "0.992809406101064"
            ]
          },
          "metadata": {},
          "execution_count": 31
        }
      ]
    },
    {
      "cell_type": "markdown",
      "source": [],
      "metadata": {
        "id": "DTSpHD9FvZ7I"
      }
    },
    {
      "cell_type": "code",
      "source": [
        "from sklearn.metrics import mean_absolute_error\n",
        "\n",
        "test_prediction = knr.predict(test_input)\n",
        "mae=mean_absolute_error(test_target,test_prediction)"
      ],
      "metadata": {
        "id": "yDz1g9jSxVV9"
      },
      "execution_count": null,
      "outputs": []
    },
    {
      "cell_type": "code",
      "source": [
        "print(mae)"
      ],
      "metadata": {
        "colab": {
          "base_uri": "https://localhost:8080/"
        },
        "id": "HK78uQ2vxqcP",
        "outputId": "60d3e936-3a66-4fd2-f251-fda713ec5a2a"
      },
      "execution_count": null,
      "outputs": [
        {
          "output_type": "stream",
          "name": "stdout",
          "text": [
            "19.157142857142862\n"
          ]
        }
      ]
    },
    {
      "cell_type": "code",
      "source": [
        "knr.score(train_input,train_target)"
      ],
      "metadata": {
        "colab": {
          "base_uri": "https://localhost:8080/"
        },
        "id": "MxQAv-INv_DH",
        "outputId": "c5c40232-c608-4963-e3aa-39b3f9a7730a"
      },
      "execution_count": null,
      "outputs": [
        {
          "output_type": "execute_result",
          "data": {
            "text/plain": [
              "0.9698823289099254"
            ]
          },
          "metadata": {},
          "execution_count": 34
        }
      ]
    },
    {
      "cell_type": "code",
      "source": [
        "knr.score(test_input,test_target)"
      ],
      "metadata": {
        "colab": {
          "base_uri": "https://localhost:8080/"
        },
        "id": "HV6gqF_JwG1p",
        "outputId": "7525a7cc-47ba-4b33-9a40-baa2e5ec12b7"
      },
      "execution_count": null,
      "outputs": [
        {
          "output_type": "execute_result",
          "data": {
            "text/plain": [
              "0.992809406101064"
            ]
          },
          "metadata": {},
          "execution_count": 35
        }
      ]
    },
    {
      "cell_type": "code",
      "source": [
        "knr.n_neightbors=3\n",
        "knr.fit(train_input,train_target)\n",
        "\n",
        "print(knr.score(train_input,train_target))"
      ],
      "metadata": {
        "colab": {
          "base_uri": "https://localhost:8080/"
        },
        "id": "HJRzf3P6wN2p",
        "outputId": "c055b123-ebf0-4a30-b651-387d27f96f79"
      },
      "execution_count": null,
      "outputs": [
        {
          "output_type": "stream",
          "name": "stdout",
          "text": [
            "0.9698823289099254\n"
          ]
        }
      ]
    },
    {
      "cell_type": "code",
      "source": [
        "print(knr.score(test_input,test_target))"
      ],
      "metadata": {
        "colab": {
          "base_uri": "https://localhost:8080/"
        },
        "id": "t0LNU2h1xt2b",
        "outputId": "2e8c269d-6d01-4650-b784-fe83d921cbd9"
      },
      "execution_count": null,
      "outputs": [
        {
          "output_type": "stream",
          "name": "stdout",
          "text": [
            "0.992809406101064\n"
          ]
        }
      ]
    },
    {
      "cell_type": "code",
      "source": [
        "print(knr.predict)"
      ],
      "metadata": {
        "colab": {
          "base_uri": "https://localhost:8080/"
        },
        "id": "kOTL57R6x2Sy",
        "outputId": "272d1496-abd2-4278-a8c8-d217ed787b3b"
      },
      "execution_count": null,
      "outputs": [
        {
          "output_type": "stream",
          "name": "stdout",
          "text": [
            "<bound method KNeighborsRegressor.predict of KNeighborsRegressor()>\n"
          ]
        }
      ]
    },
    {
      "cell_type": "code",
      "source": [
        "distances, indexs=knr.kneighbors([[50]])"
      ],
      "metadata": {
        "id": "rFFkJs0SSDjr"
      },
      "execution_count": null,
      "outputs": []
    },
    {
      "cell_type": "code",
      "source": [
        "plt.scatter(train_input,train_target)\n",
        "\n",
        "plt.scatter(train_input[indexs],train_target[indexes],marker='D')\n",
        "\n",
        "plt.scatter(50,1033,marker='^')\n",
        "\n",
        "plt.show()"
      ],
      "metadata": {
        "colab": {
          "base_uri": "https://localhost:8080/",
          "height": 430
        },
        "id": "UKylQsNpSN5F",
        "outputId": "04521813-2ac3-42ac-d81c-ce6121696e06"
      },
      "execution_count": null,
      "outputs": [
        {
          "output_type": "display_data",
          "data": {
            "text/plain": [
              "<Figure size 640x480 with 1 Axes>"
            ],
            "image/png": "[encoded data removed]"
          },
          "metadata": {}
        }
      ]
    },
    {
      "cell_type": "code",
      "source": [
        "from sklearn.linear_model import LinearRegression\n",
        "\n",
        "lr=LinearRegression()\n",
        "\n",
        "lr.fit(train_input,train_target)\n",
        "\n",
        "print(lr.predict([[50]]))"
      ],
      "metadata": {
        "colab": {
          "base_uri": "https://localhost:8080/"
        },
        "id": "xei6zNODStBu",
        "outputId": "3d58bead-569d-4bb4-f175-e4b75c1ce5da"
      },
      "execution_count": null,
      "outputs": [
        {
          "output_type": "stream",
          "name": "stdout",
          "text": [
            "[1241.83860323]\n"
          ]
        }
      ]
    },
    {
      "cell_type": "code",
      "source": [
        "print(lr.coef_,lr.intercept_)"
      ],
      "metadata": {
        "colab": {
          "base_uri": "https://localhost:8080/"
        },
        "id": "q-CbU8JMTCrR",
        "outputId": "78f709da-4451-4ebd-b0a5-4cf5ed13b629"
      },
      "execution_count": null,
      "outputs": [
        {
          "output_type": "stream",
          "name": "stdout",
          "text": [
            "[39.01714496] -709.0186449535477\n"
          ]
        }
      ]
    },
    {
      "cell_type": "code",
      "source": [
        "plt.scatter(train_input,train_target)"
      ],
      "metadata": {
        "colab": {
          "base_uri": "https://localhost:8080/",
          "height": 448
        },
        "id": "Nd3KOXYcTKG7",
        "outputId": "9340615a-a263-43b5-bb18-760d573da6bd"
      },
      "execution_count": null,
      "outputs": [
        {
          "output_type": "execute_result",
          "data": {
            "text/plain": [
              "<matplotlib.collections.PathCollection at 0x79e107a6a5c0>"
            ]
          },
          "metadata": {},
          "execution_count": 43
        },
        {
          "output_type": "display_data",
          "data": {
            "text/plain": [
              "<Figure size 640x480 with 1 Axes>"
            ],
            "image/png": "[encoded data removed]"
          },
          "metadata": {}
        }
      ]
    },
    {
      "cell_type": "code",
      "source": [
        "plt.scatter(train_input,train_target)\n",
        "plt.plot([15,50],[15*lr.coef_+lr.intercept_,50*lr.coef_+lr.intercept_])\n",
        "\n",
        "plt.scatter(50,1241.8,marker='^')\n",
        "plt.show()\n",
        "\n",
        "print(lr.score(train_input,train_target))"
      ],
      "metadata": {
        "colab": {
          "base_uri": "https://localhost:8080/",
          "height": 448
        },
        "id": "edUL_ruLTQQQ",
        "outputId": "c76ef471-85a6-4b87-ef24-c70666aadf2e"
      },
      "execution_count": null,
      "outputs": [
        {
          "output_type": "display_data",
          "data": {
            "text/plain": [
              "<Figure size 640x480 with 1 Axes>"
            ],
            "image/png": "[encoded data removed]"
          },
          "metadata": {}
        },
        {
          "output_type": "stream",
          "name": "stdout",
          "text": [
            "0.939846333997604\n"
          ]
        }
      ]
    },
    {
      "cell_type": "code",
      "source": [
        "print(lr.score(test_input,test_target))"
      ],
      "metadata": {
        "colab": {
          "base_uri": "https://localhost:8080/"
        },
        "id": "rAy2I68vUWV1",
        "outputId": "0e50e91c-1c37-45be-f5c9-2a6eae39c33b"
      },
      "execution_count": null,
      "outputs": [
        {
          "output_type": "stream",
          "name": "stdout",
          "text": [
            "0.8247503123313558\n"
          ]
        }
      ]
    },
    {
      "cell_type": "code",
      "source": [
        "train_poly=np.column_stack((train_input**2,train_input))\n",
        "test_poly=np.column_stack((test_input**2,test_input))"
      ],
      "metadata": {
        "id": "-8Xw1n9OUdVV"
      },
      "execution_count": null,
      "outputs": []
    },
    {
      "cell_type": "code",
      "source": [
        "lr=LinearRegression()\n",
        "\n",
        "lr.fit(train_poly,train_target)\n",
        "\n",
        "print(lr.predict([[50**2,50]]))\n"
      ],
      "metadata": {
        "colab": {
          "base_uri": "https://localhost:8080/"
        },
        "id": "crYb7LMeVGjb",
        "outputId": "5e7d6e7b-238a-47e4-e287-37af823f39d6"
      },
      "execution_count": null,
      "outputs": [
        {
          "output_type": "stream",
          "name": "stdout",
          "text": [
            "[1573.98423528]\n"
          ]
        }
      ]
    },
    {
      "cell_type": "code",
      "source": [
        "print(lr.coef_,lr.intercept_)"
      ],
      "metadata": {
        "colab": {
          "base_uri": "https://localhost:8080/"
        },
        "id": "3gWy-TokVl30",
        "outputId": "d2ab617e-800f-46d1-bc6a-3648c00f1fba"
      },
      "execution_count": null,
      "outputs": [
        {
          "output_type": "stream",
          "name": "stdout",
          "text": [
            "[  1.01433211 -21.55792498] 116.0502107827827\n"
          ]
        }
      ]
    },
    {
      "cell_type": "code",
      "source": [
        "point=np.arange(15,50)\n",
        "\n",
        "plt.scatter(train_input,train_target)\n",
        "\n",
        "plt.plot(point,1.01*point**2-21.6*point+116.05)\n",
        "\n",
        "plt.scatter([50],[1574],marker='^')\n",
        "plt.show()\n",
        "\n",
        "print(lr.score(train_poly,train_target))\n"
      ],
      "metadata": {
        "colab": {
          "base_uri": "https://localhost:8080/",
          "height": 448
        },
        "id": "RseLMQXZVr5z",
        "outputId": "14e7381f-d161-445e-ddf0-c41a20931d08"
      },
      "execution_count": null,
      "outputs": [
        {
          "output_type": "display_data",
          "data": {
            "text/plain": [
              "<Figure size 640x480 with 1 Axes>"
            ],
            "image/png": "[encoded data removed]"
          },
          "metadata": {}
        },
        {
          "output_type": "stream",
          "name": "stdout",
          "text": [
            "0.9706807451768623\n"
          ]
        }
      ]
    },
    {
      "cell_type": "code",
      "source": [
        "print(lr.score(test_poly,test_target))"
      ],
      "metadata": {
        "id": "ujhgk3jCWzQS",
        "outputId": "f62007cb-e95c-418c-f069-b021f45a0074",
        "colab": {
          "base_uri": "https://localhost:8080/"
        }
      },
      "execution_count": null,
      "outputs": [
        {
          "output_type": "stream",
          "name": "stdout",
          "text": [
            "0.9775935108325122\n"
          ]
        }
      ]
    },
    {
      "cell_type": "markdown",
      "source": [
        "# 8강 판다스로 데이터 준비"
      ],
      "metadata": {
        "id": "xNA5a-JCH144"
      }
    },
    {
      "cell_type": "code",
      "source": [
        "import pandas as pd\n",
        "\n",
        "df=pd.read_csv('https://bit.ly/perch_csv')\n",
        "perch_full=df.to_numpy()\n",
        "print(perch_full) # 길이,두께 넓이"
      ],
      "metadata": {
        "colab": {
          "base_uri": "https://localhost:8080/"
        },
        "id": "dku8B-jmE8mo",
        "outputId": "cfcdd7f9-2c36-47d4-bb08-321d6e2f2456"
      },
      "execution_count": null,
      "outputs": [
        {
          "output_type": "stream",
          "name": "stdout",
          "text": [
            "[[ 8.4   2.11  1.41]\n",
            " [13.7   3.53  2.  ]\n",
            " [15.    3.82  2.43]\n",
            " [16.2   4.59  2.63]\n",
            " [17.4   4.59  2.94]\n",
            " [18.    5.22  3.32]\n",
            " [18.7   5.2   3.12]\n",
            " [19.    5.64  3.05]\n",
            " [19.6   5.14  3.04]\n",
            " [20.    5.08  2.77]\n",
            " [21.    5.69  3.56]\n",
            " [21.    5.92  3.31]\n",
            " [21.    5.69  3.67]\n",
            " [21.3   6.38  3.53]\n",
            " [22.    6.11  3.41]\n",
            " [22.    5.64  3.52]\n",
            " [22.    6.11  3.52]\n",
            " [22.    5.88  3.52]\n",
            " [22.    5.52  4.  ]\n",
            " [22.5   5.86  3.62]\n",
            " [22.5   6.79  3.62]\n",
            " [22.7   5.95  3.63]\n",
            " [23.    5.22  3.63]\n",
            " [23.5   6.28  3.72]\n",
            " [24.    7.29  3.72]\n",
            " [24.    6.38  3.82]\n",
            " [24.6   6.73  4.17]\n",
            " [25.    6.44  3.68]\n",
            " [25.6   6.56  4.24]\n",
            " [26.5   7.17  4.14]\n",
            " [27.3   8.32  5.14]\n",
            " [27.5   7.17  4.34]\n",
            " [27.5   7.05  4.34]\n",
            " [27.5   7.28  4.57]\n",
            " [28.    7.82  4.2 ]\n",
            " [28.7   7.59  4.64]\n",
            " [30.    7.62  4.77]\n",
            " [32.8  10.03  6.02]\n",
            " [34.5  10.26  6.39]\n",
            " [35.   11.49  7.8 ]\n",
            " [36.5  10.88  6.86]\n",
            " [36.   10.61  6.74]\n",
            " [37.   10.84  6.26]\n",
            " [37.   10.57  6.37]\n",
            " [39.   11.14  7.49]\n",
            " [39.   11.14  6.  ]\n",
            " [39.   12.43  7.35]\n",
            " [40.   11.93  7.11]\n",
            " [40.   11.73  7.22]\n",
            " [40.   12.38  7.46]\n",
            " [40.   11.14  6.63]\n",
            " [42.   12.8   6.87]\n",
            " [43.   11.93  7.28]\n",
            " [43.   12.51  7.42]\n",
            " [43.5  12.6   8.14]\n",
            " [44.   12.49  7.6 ]]\n"
          ]
        }
      ]
    },
    {
      "cell_type": "code",
      "source": [
        "from sklearn.preprocessing import PolynomialFeatures\n",
        "\n",
        "#degree=2\n",
        "\n",
        "poly=PolynomialFeatures()\n",
        "poly.fit([[2,3]])\n",
        "\n",
        "print(poly.transform([[2,3]]))"
      ],
      "metadata": {
        "colab": {
          "base_uri": "https://localhost:8080/"
        },
        "id": "egGl3TUuKzpq",
        "outputId": "764e8f0e-886f-470c-ce79-ae9c363f2e71"
      },
      "execution_count": null,
      "outputs": [
        {
          "output_type": "stream",
          "name": "stdout",
          "text": [
            "[[1. 2. 3. 4. 6. 9.]]\n"
          ]
        }
      ]
    },
    {
      "cell_type": "markdown",
      "source": [
        "오류 발생"
      ],
      "metadata": {
        "id": "8I9kMUa7rA9k"
      }
    },
    {
      "cell_type": "code",
      "source": [
        "poly=PolynomialFeatures(include_bias=False)\n",
        "\n",
        "poly.fit(train_input)\n",
        "train_poly=poly.transform(train_input)\n",
        "\n",
        "print(train_poly.shape) # 여기 부분에서 42행 9열이 나와야하는데"
      ],
      "metadata": {
        "colab": {
          "base_uri": "https://localhost:8080/"
        },
        "id": "bCkjA_ccNjh8",
        "outputId": "43e7c4ce-d74d-45ec-d8fd-b1ce023387cd"
      },
      "execution_count": null,
      "outputs": [
        {
          "output_type": "stream",
          "name": "stdout",
          "text": [
            "(42, 2)\n"
          ]
        }
      ]
    },
    {
      "cell_type": "code",
      "source": [
        "poly.get_feature_names()"
      ],
      "metadata": {
        "colab": {
          "base_uri": "https://localhost:8080/",
          "height": 144
        },
        "id": "w0efCTWjrgee",
        "outputId": "4fe73f8b-0c69-4ffc-d842-837ccabe994b"
      },
      "execution_count": null,
      "outputs": [
        {
          "output_type": "error",
          "ename": "AttributeError",
          "evalue": "'PolynomialFeatures' object has no attribute 'get_feature_names'",
          "traceback": [
            "\u001b[0;31m---------------------------------------------------------------------------\u001b[0m",
            "\u001b[0;31mAttributeError\u001b[0m                            Traceback (most recent call last)",
            "\u001b[0;32m<ipython-input-60-b826131f4a6e>\u001b[0m in \u001b[0;36m<cell line: 1>\u001b[0;34m()\u001b[0m\n\u001b[0;32m----> 1\u001b[0;31m \u001b[0mpoly\u001b[0m\u001b[0;34m.\u001b[0m\u001b[0mget_feature_names\u001b[0m\u001b[0;34m(\u001b[0m\u001b[0;34m)\u001b[0m\u001b[0;34m\u001b[0m\u001b[0;34m\u001b[0m\u001b[0m\n\u001b[0m",
            "\u001b[0;31mAttributeError\u001b[0m: 'PolynomialFeatures' object has no attribute 'get_feature_names'"
          ]
        }
      ]
    },
    {
      "cell_type": "code",
      "source": [
        "test_poly=poly.transform(test_input)"
      ],
      "metadata": {
        "id": "_MhmodA-O_iJ"
      },
      "execution_count": null,
      "outputs": []
    },
    {
      "cell_type": "code",
      "source": [
        "from sklearn.linear_model import LinearRegression\n",
        "\n",
        "lr=LinearRegression()\n",
        "lr.fit(train_poly,train_target)\n",
        "\n",
        "print(lr.score(train_poly,train_target))"
      ],
      "metadata": {
        "colab": {
          "base_uri": "https://localhost:8080/"
        },
        "id": "3QoORhMJPN7J",
        "outputId": "bcc5d95f-c9ba-4a5f-f44a-213ab2ee6306"
      },
      "execution_count": null,
      "outputs": [
        {
          "output_type": "stream",
          "name": "stdout",
          "text": [
            "0.9706807451768623\n"
          ]
        }
      ]
    },
    {
      "cell_type": "code",
      "source": [
        "print(lr.score(test_poly,test_target))"
      ],
      "metadata": {
        "colab": {
          "base_uri": "https://localhost:8080/"
        },
        "id": "F14P_jHrPgCH",
        "outputId": "25d789eb-b3e0-45a9-943e-9060f8d2e93a"
      },
      "execution_count": null,
      "outputs": [
        {
          "output_type": "stream",
          "name": "stdout",
          "text": [
            "0.9775935108325122\n"
          ]
        }
      ]
    },
    {
      "cell_type": "markdown",
      "source": [],
      "metadata": {
        "id": "MI-ePxTGtn1T"
      }
    },
    {
      "cell_type": "markdown",
      "source": [
        "**더 많은 특성 만들기**\n",
        "degree가 5라고 하는 것은 어떤 의미인가요???"
      ],
      "metadata": {
        "id": "UIMfj0Z-Rq51"
      }
    },
    {
      "cell_type": "code",
      "source": [
        "ploy=PolynomialFeatures(degree=5,include_bias=False)\n",
        "\n",
        "poly.fit(train_input)\n",
        "train_poly=poly.transform(train_input)\n",
        "test_poly=poly.transform(test_input)\n",
        "\n",
        "print(train_poly.shape) #여기도 오류"
      ],
      "metadata": {
        "id": "LSKQ9hzyRxNq",
        "colab": {
          "base_uri": "https://localhost:8080/"
        },
        "outputId": "82b2be1b-b063-44bb-a2aa-6f38e810857c"
      },
      "execution_count": null,
      "outputs": [
        {
          "output_type": "stream",
          "name": "stdout",
          "text": [
            "(42, 2)\n"
          ]
        }
      ]
    },
    {
      "cell_type": "code",
      "source": [
        "lr.fit(train_poly,train_target)\n",
        "\n",
        "print(lr.score(train_poly,train_target))"
      ],
      "metadata": {
        "colab": {
          "base_uri": "https://localhost:8080/"
        },
        "id": "uwDKajW5t278",
        "outputId": "b4ddaf42-c93b-4ca0-9984-c4d3e6901861"
      },
      "execution_count": null,
      "outputs": [
        {
          "output_type": "stream",
          "name": "stdout",
          "text": [
            "0.9706807451768623\n"
          ]
        }
      ]
    },
    {
      "cell_type": "code",
      "source": [
        "print(lr.score(test_poly,test_target)) # 여기도 오류"
      ],
      "metadata": {
        "colab": {
          "base_uri": "https://localhost:8080/"
        },
        "id": "yiahh_vauTnd",
        "outputId": "a9dee46a-d409-4391-ebbd-f1c8b200e5f2"
      },
      "execution_count": null,
      "outputs": [
        {
          "output_type": "stream",
          "name": "stdout",
          "text": [
            "0.9775935108325122\n"
          ]
        }
      ]
    },
    {
      "cell_type": "code",
      "source": [
        "from sklearn.preprocessing import StandardScaler\n",
        "\n",
        "ss=StandardScaler()\n",
        "ss.fit(train_poly)\n",
        "\n",
        "train_scaled=ss.transform(train_poly)\n",
        "test_scaled=ss.transform(test_poly)"
      ],
      "metadata": {
        "id": "YF6yilBVuiqg"
      },
      "execution_count": null,
      "outputs": []
    },
    {
      "cell_type": "code",
      "source": [
        "from sklearn.linear_model import Ridge\n",
        "\n",
        "ridge=Ridge()\n",
        "\n",
        "ridge.fit(train_scaled,train_target)\n",
        "\n",
        "print(ridge.score(train_scaled,train_target))"
      ],
      "metadata": {
        "colab": {
          "base_uri": "https://localhost:8080/"
        },
        "id": "DGOSmX0lxEEd",
        "outputId": "f29b07b1-b74b-46c5-dd3c-a1ef648307ff"
      },
      "execution_count": null,
      "outputs": [
        {
          "output_type": "stream",
          "name": "stdout",
          "text": [
            "0.9619389326333372\n"
          ]
        }
      ]
    },
    {
      "cell_type": "code",
      "source": [
        "print(ridge.score(test_scaled,test_target))"
      ],
      "metadata": {
        "colab": {
          "base_uri": "https://localhost:8080/"
        },
        "id": "Q8mDPwGMzIgD",
        "outputId": "386bdded-8eb7-4799-fbab-9c16279bce87"
      },
      "execution_count": null,
      "outputs": [
        {
          "output_type": "stream",
          "name": "stdout",
          "text": [
            "0.9347719209841489\n"
          ]
        }
      ]
    },
    {
      "cell_type": "code",
      "source": [
        "train_score=[]\n",
        "test_score=[]"
      ],
      "metadata": {
        "id": "5etu7QzvITVl"
      },
      "execution_count": null,
      "outputs": []
    },
    {
      "cell_type": "code",
      "source": [
        "alpha_list=[0.001,0.01,0.1,1,10,100]\n",
        "for alpha in alpha_list :\n",
        "\n",
        "    ridge=Ridge(alpha=alpha)\n",
        "\n",
        "    ridge.fit(train_scaled,train_target)\n",
        "\n",
        "    train_score.apppend(ridge.score(train_scaled,train_target))\n",
        "    test_score.append(ridge.score(test_scaled,test_target))\n",
        "\n",
        "plt.plot(np.log10(alpha_list),train_score)\n",
        "plt.plot(np.log10(alpha_list),test_score)\n",
        "plt.xlabel('alpha')\n",
        "plt.ylabel('R^2')\n",
        "plt.show()"
      ],
      "metadata": {
        "colab": {
          "base_uri": "https://localhost:8080/",
          "height": 216
        },
        "id": "n9WUeA1n09DG",
        "outputId": "654216b1-3d33-4c8d-d0d2-9bcab7905cc4"
      },
      "execution_count": null,
      "outputs": [
        {
          "output_type": "error",
          "ename": "NameError",
          "evalue": "name 'train_score' is not defined",
          "traceback": [
            "\u001b[0;31m---------------------------------------------------------------------------\u001b[0m",
            "\u001b[0;31mNameError\u001b[0m                                 Traceback (most recent call last)",
            "\u001b[0;32m<ipython-input-70-33a07587da21>\u001b[0m in \u001b[0;36m<cell line: 2>\u001b[0;34m()\u001b[0m\n\u001b[1;32m      6\u001b[0m     \u001b[0mridge\u001b[0m\u001b[0;34m.\u001b[0m\u001b[0mfit\u001b[0m\u001b[0;34m(\u001b[0m\u001b[0mtrain_scaled\u001b[0m\u001b[0;34m,\u001b[0m\u001b[0mtrain_target\u001b[0m\u001b[0;34m)\u001b[0m\u001b[0;34m\u001b[0m\u001b[0;34m\u001b[0m\u001b[0m\n\u001b[1;32m      7\u001b[0m \u001b[0;34m\u001b[0m\u001b[0m\n\u001b[0;32m----> 8\u001b[0;31m     \u001b[0mtrain_score\u001b[0m\u001b[0;34m.\u001b[0m\u001b[0mapppend\u001b[0m\u001b[0;34m(\u001b[0m\u001b[0mridge\u001b[0m\u001b[0;34m.\u001b[0m\u001b[0mscore\u001b[0m\u001b[0;34m(\u001b[0m\u001b[0mtrain_scaled\u001b[0m\u001b[0;34m,\u001b[0m\u001b[0mtrain_target\u001b[0m\u001b[0;34m)\u001b[0m\u001b[0;34m)\u001b[0m\u001b[0;34m\u001b[0m\u001b[0;34m\u001b[0m\u001b[0m\n\u001b[0m\u001b[1;32m      9\u001b[0m     \u001b[0mtest_score\u001b[0m\u001b[0;34m.\u001b[0m\u001b[0mappend\u001b[0m\u001b[0;34m(\u001b[0m\u001b[0mridge\u001b[0m\u001b[0;34m.\u001b[0m\u001b[0mscore\u001b[0m\u001b[0;34m(\u001b[0m\u001b[0mtest_scaled\u001b[0m\u001b[0;34m,\u001b[0m\u001b[0mtest_target\u001b[0m\u001b[0;34m)\u001b[0m\u001b[0;34m)\u001b[0m\u001b[0;34m\u001b[0m\u001b[0;34m\u001b[0m\u001b[0m\n\u001b[1;32m     10\u001b[0m \u001b[0;34m\u001b[0m\u001b[0m\n",
            "\u001b[0;31mNameError\u001b[0m: name 'train_score' is not defined"
          ]
        }
      ]
    },
    {
      "cell_type": "code",
      "source": [
        "ridge=Ridge(alpha=0.1)\n",
        "ridge.fit(train_scaled,train_target)\n",
        "\n",
        "print(ridge.score(train_scaled,train_target))"
      ],
      "metadata": {
        "colab": {
          "base_uri": "https://localhost:8080/"
        },
        "id": "bpzDD1kD2PnO",
        "outputId": "f4d38d70-2bb0-4b7d-b239-ba3c5259333b"
      },
      "execution_count": null,
      "outputs": [
        {
          "output_type": "stream",
          "name": "stdout",
          "text": [
            "0.969713201408068\n"
          ]
        }
      ]
    },
    {
      "cell_type": "code",
      "source": [
        "print(ridge.score(test_scaled,test_target))"
      ],
      "metadata": {
        "colab": {
          "base_uri": "https://localhost:8080/"
        },
        "id": "h9SCo0GQ2dcl",
        "outputId": "37305640-f45a-46f3-9c9d-5a6cb4fd8843"
      },
      "execution_count": null,
      "outputs": [
        {
          "output_type": "stream",
          "name": "stdout",
          "text": [
            "0.9716735430793066\n"
          ]
        }
      ]
    },
    {
      "cell_type": "code",
      "source": [
        "from sklearn.linear_model import Lasso\n",
        "\n",
        "lasso=Lasso()\n",
        "lasso.fit(train_scaled,train_target)\n",
        "\n",
        "print(lasso.score(train_scaled,train_target))"
      ],
      "metadata": {
        "colab": {
          "base_uri": "https://localhost:8080/"
        },
        "id": "n_iXpel92l2K",
        "outputId": "e53260e8-471b-4c58-cb68-55725913ffd3"
      },
      "execution_count": null,
      "outputs": [
        {
          "output_type": "stream",
          "name": "stdout",
          "text": [
            "0.9682046094058255\n"
          ]
        }
      ]
    },
    {
      "cell_type": "code",
      "source": [
        "print(lasso.score(test_scaled,test_target))"
      ],
      "metadata": {
        "colab": {
          "base_uri": "https://localhost:8080/"
        },
        "id": "MlDGYg7A28Hr",
        "outputId": "53066dd7-01e9-4b60-ad44-7c8cf7b9164e"
      },
      "execution_count": null,
      "outputs": [
        {
          "output_type": "stream",
          "name": "stdout",
          "text": [
            "0.9632610688126504\n"
          ]
        }
      ]
    },
    {
      "cell_type": "code",
      "source": [
        "lasso=Lasso(alpha=10)\n",
        "lasso.fit(train_scaled,train_target)\n",
        "\n",
        "print(lasso.score(train_scaled,train_target))"
      ],
      "metadata": {
        "colab": {
          "base_uri": "https://localhost:8080/"
        },
        "id": "b4YpYQXO49Pp",
        "outputId": "c3456179-5389-41e7-de44-2c7a6d58edcf"
      },
      "execution_count": null,
      "outputs": [
        {
          "output_type": "stream",
          "name": "stdout",
          "text": [
            "0.9660174491610631\n"
          ]
        }
      ]
    },
    {
      "cell_type": "code",
      "source": [
        "print(lasso.score(test_scaled,test_target))"
      ],
      "metadata": {
        "colab": {
          "base_uri": "https://localhost:8080/"
        },
        "id": "Guyvbnl_5EuU",
        "outputId": "b4819435-2121-4ffa-a1c6-83b75e0e2746"
      },
      "execution_count": null,
      "outputs": [
        {
          "output_type": "stream",
          "name": "stdout",
          "text": [
            "0.9601700267083354\n"
          ]
        }
      ]
    },
    {
      "cell_type": "code",
      "source": [
        "print(np.sum(lasso.coef_==0))"
      ],
      "metadata": {
        "colab": {
          "base_uri": "https://localhost:8080/"
        },
        "id": "MLfuPsXK5HGL",
        "outputId": "759a7cf2-2dd1-4ca1-968b-5990dd84efbf"
      },
      "execution_count": null,
      "outputs": [
        {
          "output_type": "stream",
          "name": "stdout",
          "text": [
            "1\n"
          ]
        }
      ]
    }
  ]
}