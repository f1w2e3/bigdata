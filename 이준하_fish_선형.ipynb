{
  "nbformat": 4,
  "nbformat_minor": 0,
  "metadata": {
    "colab": {
      "provenance": []
    },
    "kernelspec": {
      "name": "python3",
      "display_name": "Python 3"
    },
    "language_info": {
      "name": "python"
    }
  },
  "cells": [
    {
      "cell_type": "code",
      "execution_count": null,
      "metadata": {
        "id": "u9KgpPXyOe3j"
      },
      "outputs": [],
      "source": []
    },
    {
      "cell_type": "code",
      "source": [
        "bream_length = [\n",
        "    23.5, 27.1, 29.9, 32.4, 25.7, 31.3, 28.8, 26.4, 34.1, 30.6,\n",
        "    24.8, 36.5, 33.9, 25.2, 29.3, 27.7, 31.9, 22.4, 30.2, 35.6,\n",
        "    28.3, 26.9, 24.1, 32.8, 27.4, 25.5, 29.7, 31.1, 33.3, 26.2,\n",
        "    34.7, 23.9, 30.9, 28.5, 27.2\n",
        "]\n",
        "\n",
        "bream_weight = [\n",
        "    320, 450, 512, 540, 300, 470, 480, 360, 590, 500,\n",
        "    330, 550, 530, 310, 470, 390, 510, 280, 490, 570,\n",
        "    400, 350, 325, 560, 410, 300, 490, 515, 540, 380,\n",
        "    580, 290, 500, 430, 405\n",
        "]\n"
      ],
      "metadata": {
        "id": "OauvmPv_OiKN"
      },
      "execution_count": null,
      "outputs": []
    },
    {
      "cell_type": "code",
      "source": [
        "import matplotlib.pyplot as plt\n",
        "\n",
        "plt.scatter(bream_length, bream_weight)\n",
        "plt.xlabel('length')\n",
        "plt.ylabel('weight')\n",
        "plt.show()"
      ],
      "metadata": {
        "colab": {
          "base_uri": "https://localhost:8080/",
          "height": 449
        },
        "id": "plPjP55bOxyU",
        "outputId": "09cea7e8-2a32-4f80-e735-b477b5e58a22"
      },
      "execution_count": null,
      "outputs": [
        {
          "output_type": "display_data",
          "data": {
            "text/plain": [
              "<Figure size 640x480 with 1 Axes>"
            ],
            "image/png": "[encoded data removed]"
          },
          "metadata": {}
        }
      ]
    },
    {
      "cell_type": "code",
      "source": [
        "smelt_length = [\n",
        "    8.3, 10.2, 12.5, 9.8, 11.1, 7.4, 13.2, 6.9, 10.5, 8.9,\n",
        "    7.8, 12.1, 9.4, 10.8\n",
        "]\n",
        "\n",
        "smelt_weight = [\n",
        "    8.7, 12.5, 15.3, 10.1, 14.8, 7.9, 16.2, 6.3, 11.4, 9.2,\n",
        "    7.5, 13.7, 10.9, 12.1\n",
        "]\n"
      ],
      "metadata": {
        "id": "phCm1iYxOx7T"
      },
      "execution_count": null,
      "outputs": []
    },
    {
      "cell_type": "code",
      "source": [
        "plt.scatter(bream_length, bream_weight)\n",
        "plt.scatter(smelt_length, smelt_weight)\n",
        "plt.xlabel('length')\n",
        "plt.ylabel('weight')\n",
        "plt.show()"
      ],
      "metadata": {
        "colab": {
          "base_uri": "https://localhost:8080/",
          "height": 211
        },
        "id": "z-rnjHkvOx9c",
        "outputId": "2684e0e0-3a31-40df-c047-e1a68d2a75b2"
      },
      "execution_count": null,
      "outputs": [
        {
          "output_type": "error",
          "ename": "NameError",
          "evalue": "name 'plt' is not defined",
          "traceback": [
            "\u001b[0;31m---------------------------------------------------------------------------\u001b[0m",
            "\u001b[0;31mNameError\u001b[0m                                 Traceback (most recent call last)",
            "\u001b[0;32m<ipython-input-1-dda5ca90a11e>\u001b[0m in \u001b[0;36m<cell line: 1>\u001b[0;34m()\u001b[0m\n\u001b[0;32m----> 1\u001b[0;31m \u001b[0mplt\u001b[0m\u001b[0;34m.\u001b[0m\u001b[0mscatter\u001b[0m\u001b[0;34m(\u001b[0m\u001b[0mbream_length\u001b[0m\u001b[0;34m,\u001b[0m \u001b[0mbream_weight\u001b[0m\u001b[0;34m)\u001b[0m\u001b[0;34m\u001b[0m\u001b[0;34m\u001b[0m\u001b[0m\n\u001b[0m\u001b[1;32m      2\u001b[0m \u001b[0;34m\u001b[0m\u001b[0m\n\u001b[1;32m      3\u001b[0m \u001b[0mplt\u001b[0m\u001b[0;34m.\u001b[0m\u001b[0mxlabel\u001b[0m\u001b[0;34m(\u001b[0m\u001b[0;34m'length'\u001b[0m\u001b[0;34m)\u001b[0m\u001b[0;34m\u001b[0m\u001b[0;34m\u001b[0m\u001b[0m\n\u001b[1;32m      4\u001b[0m \u001b[0mplt\u001b[0m\u001b[0;34m.\u001b[0m\u001b[0mylabel\u001b[0m\u001b[0;34m(\u001b[0m\u001b[0;34m'weight'\u001b[0m\u001b[0;34m)\u001b[0m\u001b[0;34m\u001b[0m\u001b[0;34m\u001b[0m\u001b[0m\n\u001b[1;32m      5\u001b[0m \u001b[0mplt\u001b[0m\u001b[0;34m.\u001b[0m\u001b[0mshow\u001b[0m\u001b[0;34m(\u001b[0m\u001b[0;34m)\u001b[0m\u001b[0;34m\u001b[0m\u001b[0;34m\u001b[0m\u001b[0m\n",
            "\u001b[0;31mNameError\u001b[0m: name 'plt' is not defined"
          ]
        }
      ]
    },
    {
      "cell_type": "code",
      "source": [
        "length = bream_length + smelt_length\n",
        "weight = bream_weight + smelt_weight"
      ],
      "metadata": {
        "id": "x_OLR9fbPiac"
      },
      "execution_count": null,
      "outputs": []
    },
    {
      "cell_type": "code",
      "source": [
        "fish_data = [[l, w] for l, w in zip(length, weight)]"
      ],
      "metadata": {
        "id": "YuB55B-OPicb"
      },
      "execution_count": null,
      "outputs": []
    },
    {
      "cell_type": "code",
      "source": [
        "fish_target = [1] * 35 + [0] * 14"
      ],
      "metadata": {
        "id": "pOFVYj4pPsol"
      },
      "execution_count": null,
      "outputs": []
    },
    {
      "cell_type": "code",
      "source": [
        "from sklearn.neighbors import KNeighborsClassifier\n",
        "\n",
        "kn = KNeighborsClassifier()\n",
        "\n",
        "kn.fit(fish_data, fish_target)\n",
        "\n",
        "kn.score(fish_data, fish_target)"
      ],
      "metadata": {
        "id": "4Cvx078dPx57",
        "colab": {
          "base_uri": "https://localhost:8080/"
        },
        "outputId": "460d9341-baf9-496f-f9d7-7ef60debe635"
      },
      "execution_count": null,
      "outputs": [
        {
          "output_type": "execute_result",
          "data": {
            "text/plain": [
              "1.0"
            ]
          },
          "metadata": {},
          "execution_count": 8
        }
      ]
    },
    {
      "cell_type": "code",
      "source": [
        "kn.predict([[30, 600]]) #길이와 무게 값을 보고 도미인지 빙어인지 예\n"
      ],
      "metadata": {
        "colab": {
          "base_uri": "https://localhost:8080/"
        },
        "id": "5GcTyaAfQBCq",
        "outputId": "5e5a4ac1-8b8e-4b67-ab41-4fda2ff3cd59"
      },
      "execution_count": null,
      "outputs": [
        {
          "output_type": "execute_result",
          "data": {
            "text/plain": [
              "array([1])"
            ]
          },
          "metadata": {},
          "execution_count": 9
        }
      ]
    },
    {
      "cell_type": "code",
      "source": [
        "kn49 = KNeighborsClassifier(n_neighbors=49)\n",
        "kn49.fit(fish_data, fish_target)\n",
        "kn49.score(fish_data, fish_target)"
      ],
      "metadata": {
        "colab": {
          "base_uri": "https://localhost:8080/"
        },
        "id": "Zh6FGw4QQHaM",
        "outputId": "4f5ec7e2-5fff-4c91-eab5-2f72019de629"
      },
      "execution_count": null,
      "outputs": [
        {
          "output_type": "execute_result",
          "data": {
            "text/plain": [
              "0.7142857142857143"
            ]
          },
          "metadata": {},
          "execution_count": 10
        }
      ]
    },
    {
      "cell_type": "code",
      "source": [
        "print(35/49)"
      ],
      "metadata": {
        "colab": {
          "base_uri": "https://localhost:8080/"
        },
        "id": "VoC4Ez3KQBF7",
        "outputId": "fcb112a8-e5c9-4794-ab61-d69896879406"
      },
      "execution_count": null,
      "outputs": [
        {
          "output_type": "stream",
          "name": "stdout",
          "text": [
            "0.7142857142857143\n"
          ]
        }
      ]
    },
    {
      "cell_type": "code",
      "source": [
        "import pandas as pd\n",
        "\n",
        "bream_df = pd.DataFrame({\n",
        "    'length': bream_length,\n",
        "    'weight': bream_weight\n",
        "})\n",
        "\n",
        "smelt_df = pd.DataFrame({\n",
        "    'length': smelt_length,\n",
        "    'weight': smelt_weight\n",
        "})\n",
        "\n",
        "fish_df = pd.concat([bream_df, smelt_df]) #도미 데이터와 빙어 데이터를 합쳐줌\n",
        "\n",
        "print(fish_df)\n"
      ],
      "metadata": {
        "colab": {
          "base_uri": "https://localhost:8080/"
        },
        "id": "qQbHEBw8Qn-7",
        "outputId": "5faeb52c-0552-4a3a-abd9-361a560ed3cd"
      },
      "execution_count": null,
      "outputs": [
        {
          "output_type": "stream",
          "name": "stdout",
          "text": [
            "    length  weight\n",
            "0     23.5   320.0\n",
            "1     27.1   450.0\n",
            "2     29.9   512.0\n",
            "3     32.4   540.0\n",
            "4     25.7   300.0\n",
            "5     31.3   470.0\n",
            "6     28.8   480.0\n",
            "7     26.4   360.0\n",
            "8     34.1   590.0\n",
            "9     30.6   500.0\n",
            "10    24.8   330.0\n",
            "11    36.5   550.0\n",
            "12    33.9   530.0\n",
            "13    25.2   310.0\n",
            "14    29.3   470.0\n",
            "15    27.7   390.0\n",
            "16    31.9   510.0\n",
            "17    22.4   280.0\n",
            "18    30.2   490.0\n",
            "19    35.6   570.0\n",
            "20    28.3   400.0\n",
            "21    26.9   350.0\n",
            "22    24.1   325.0\n",
            "23    32.8   560.0\n",
            "24    27.4   410.0\n",
            "25    25.5   300.0\n",
            "26    29.7   490.0\n",
            "27    31.1   515.0\n",
            "28    33.3   540.0\n",
            "29    26.2   380.0\n",
            "30    34.7   580.0\n",
            "31    23.9   290.0\n",
            "32    30.9   500.0\n",
            "33    28.5   430.0\n",
            "34    27.2   405.0\n",
            "0      8.3     8.7\n",
            "1     10.2    12.5\n",
            "2     12.5    15.3\n",
            "3      9.8    10.1\n",
            "4     11.1    14.8\n",
            "5      7.4     7.9\n",
            "6     13.2    16.2\n",
            "7      6.9     6.3\n",
            "8     10.5    11.4\n",
            "9      8.9     9.2\n",
            "10     7.8     7.5\n",
            "11    12.1    13.7\n",
            "12     9.4    10.9\n",
            "13    10.8    12.1\n"
          ]
        }
      ]
    },
    {
      "cell_type": "code",
      "source": [
        "import numpy as np\n",
        "\n",
        "input_arr = np.array(fish_data)\n",
        "target_arr = np.array(fish_target)\n",
        "\n",
        "print(input_arr)\n"
      ],
      "metadata": {
        "colab": {
          "base_uri": "https://localhost:8080/"
        },
        "id": "vhg8c3Hnqh7E",
        "outputId": "861b2618-3eeb-4a7c-a4f9-f6589878a333"
      },
      "execution_count": null,
      "outputs": [
        {
          "output_type": "stream",
          "name": "stdout",
          "text": [
            "[[ 23.5 320. ]\n",
            " [ 27.1 450. ]\n",
            " [ 29.9 512. ]\n",
            " [ 32.4 540. ]\n",
            " [ 25.7 300. ]\n",
            " [ 31.3 470. ]\n",
            " [ 28.8 480. ]\n",
            " [ 26.4 360. ]\n",
            " [ 34.1 590. ]\n",
            " [ 30.6 500. ]\n",
            " [ 24.8 330. ]\n",
            " [ 36.5 550. ]\n",
            " [ 33.9 530. ]\n",
            " [ 25.2 310. ]\n",
            " [ 29.3 470. ]\n",
            " [ 27.7 390. ]\n",
            " [ 31.9 510. ]\n",
            " [ 22.4 280. ]\n",
            " [ 30.2 490. ]\n",
            " [ 35.6 570. ]\n",
            " [ 28.3 400. ]\n",
            " [ 26.9 350. ]\n",
            " [ 24.1 325. ]\n",
            " [ 32.8 560. ]\n",
            " [ 27.4 410. ]\n",
            " [ 25.5 300. ]\n",
            " [ 29.7 490. ]\n",
            " [ 31.1 515. ]\n",
            " [ 33.3 540. ]\n",
            " [ 26.2 380. ]\n",
            " [ 34.7 580. ]\n",
            " [ 23.9 290. ]\n",
            " [ 30.9 500. ]\n",
            " [ 28.5 430. ]\n",
            " [ 27.2 405. ]\n",
            " [  8.3   8.7]\n",
            " [ 10.2  12.5]\n",
            " [ 12.5  15.3]\n",
            " [  9.8  10.1]\n",
            " [ 11.1  14.8]\n",
            " [  7.4   7.9]\n",
            " [ 13.2  16.2]\n",
            " [  6.9   6.3]\n",
            " [ 10.5  11.4]\n",
            " [  8.9   9.2]\n",
            " [  7.8   7.5]\n",
            " [ 12.1  13.7]\n",
            " [  9.4  10.9]\n",
            " [ 10.8  12.1]]\n"
          ]
        }
      ]
    },
    {
      "cell_type": "code",
      "source": [
        "print(target_arr)"
      ],
      "metadata": {
        "colab": {
          "base_uri": "https://localhost:8080/"
        },
        "id": "Y08Gexfvr9N5",
        "outputId": "bb8850cd-06ce-4525-f6fd-c669ba37a787"
      },
      "execution_count": null,
      "outputs": [
        {
          "output_type": "stream",
          "name": "stdout",
          "text": [
            "[1 1 1 1 1 1 1 1 1 1 1 1 1 1 1 1 1 1 1 1 1 1 1 1 1 1 1 1 1 1 1 1 1 1 1 0 0\n",
            " 0 0 0 0 0 0 0 0 0 0 0 0]\n"
          ]
        }
      ]
    },
    {
      "cell_type": "code",
      "source": [
        "#데이터 섞기\n",
        "#훈련세트와 테스트세트를 섞어서 학습될수 있도록 나열된 데이터를 섞는다\n",
        "index = np.arange(49)\n",
        "np.random.shuffle(index)\n",
        "print(index)\n",
        "\n",
        "train_input = input_arr[index[:35]]\n",
        "train_target = target_arr[index[:35]]\n",
        "\n",
        "test_input = input_arr[index[35:]]\n",
        "test_target = target_arr[index[35:]]"
      ],
      "metadata": {
        "colab": {
          "base_uri": "https://localhost:8080/"
        },
        "id": "-UCKJo1-sFEZ",
        "outputId": "21b9d2be-10d2-44be-cae7-1a5f9eda3a38"
      },
      "execution_count": null,
      "outputs": [
        {
          "output_type": "stream",
          "name": "stdout",
          "text": [
            "[39 38  6 47 44 46  5  0 10 19 11 32 37 14 16 40 28 15 41 12  8 36 48 43\n",
            " 42 30 18  3  7 26 27 35 25 23  1  2 17 45 33 20 21 31 24  9  4 34 29 13\n",
            " 22]\n"
          ]
        }
      ]
    },
    {
      "cell_type": "code",
      "source": [
        "import matplotlib.pyplot as plt\n",
        "\n",
        "plt.scatter(train_input[:, 0], train_input[:, 1])\n",
        "plt.scatter(test_input[:, 0], test_input[:, 1])\n",
        "plt.xlabel('length')\n",
        "plt.ylabel('weight')\n",
        "plt.show()"
      ],
      "metadata": {
        "colab": {
          "base_uri": "https://localhost:8080/",
          "height": 449
        },
        "id": "QcDTDYEsvkYf",
        "outputId": "86fbd7d5-4230-4e0f-bf30-a0c5f2692965"
      },
      "execution_count": null,
      "outputs": [
        {
          "output_type": "display_data",
          "data": {
            "text/plain": [
              "<Figure size 640x480 with 1 Axes>"
            ],
            "image/png": "[encoded data removed]"
          },
          "metadata": {}
        }
      ]
    },
    {
      "cell_type": "code",
      "source": [
        "kn = kn.fit(train_input, train_target)\n",
        "\n",
        "kn.score(test_input, test_target)"
      ],
      "metadata": {
        "colab": {
          "base_uri": "https://localhost:8080/"
        },
        "id": "mnUo5lSXvsgX",
        "outputId": "971f64f4-9503-4cb6-935e-1e29fd20b390"
      },
      "execution_count": null,
      "outputs": [
        {
          "output_type": "execute_result",
          "data": {
            "text/plain": [
              "1.0"
            ]
          },
          "metadata": {},
          "execution_count": 17
        }
      ]
    },
    {
      "cell_type": "code",
      "source": [
        "fish_length = bream_length + smelt_length\n",
        "fish_weight = bream_weight + smelt_weight\n",
        "\n",
        "fish_data = np.column_stack((fish_length, fish_weight))\n",
        "fish_target = np.concatenate((np.ones(35), np.zeros(14)))\n",
        "fish_target"
      ],
      "metadata": {
        "colab": {
          "base_uri": "https://localhost:8080/"
        },
        "id": "M1M0PHN8cdhs",
        "outputId": "7268b40a-3920-47e6-b958-eab4eb592467"
      },
      "execution_count": null,
      "outputs": [
        {
          "output_type": "execute_result",
          "data": {
            "text/plain": [
              "array([1., 1., 1., 1., 1., 1., 1., 1., 1., 1., 1., 1., 1., 1., 1., 1., 1.,\n",
              "       1., 1., 1., 1., 1., 1., 1., 1., 1., 1., 1., 1., 1., 1., 1., 1., 1.,\n",
              "       1., 0., 0., 0., 0., 0., 0., 0., 0., 0., 0., 0., 0., 0., 0.])"
            ]
          },
          "metadata": {},
          "execution_count": 18
        }
      ]
    },
    {
      "cell_type": "code",
      "source": [
        "from sklearn.model_selection import train_test_split\n",
        "\n",
        "train_input, test_input, train_target, test_target = train_test_split(fish_data, fish_target, stratify=fish_target, random_state=42)"
      ],
      "metadata": {
        "id": "ZnlN6mAAcdak"
      },
      "execution_count": null,
      "outputs": []
    },
    {
      "cell_type": "code",
      "source": [
        "from sklearn.neighbors import KNeighborsClassifier\n",
        "\n",
        "kn = KNeighborsClassifier()\n",
        "kn.fit(train_input, train_target)\n",
        "kn.score(test_input, test_target)"
      ],
      "metadata": {
        "colab": {
          "base_uri": "https://localhost:8080/"
        },
        "id": "lFOaZChgcdI8",
        "outputId": "83fbb655-938f-4583-8e15-5ef90e34d178"
      },
      "execution_count": null,
      "outputs": [
        {
          "output_type": "execute_result",
          "data": {
            "text/plain": [
              "1.0"
            ]
          },
          "metadata": {},
          "execution_count": 20
        }
      ]
    },
    {
      "cell_type": "code",
      "source": [
        "print(kn.predict([[25,150]]))"
      ],
      "metadata": {
        "colab": {
          "base_uri": "https://localhost:8080/"
        },
        "id": "zB7u4v_Qgpfq",
        "outputId": "488d44d6-b530-4f5d-9ec3-cf307e7c0f2a"
      },
      "execution_count": null,
      "outputs": [
        {
          "output_type": "stream",
          "name": "stdout",
          "text": [
            "[0.]\n"
          ]
        }
      ]
    },
    {
      "cell_type": "code",
      "source": [
        "distances, indexes = kn.kneighbors([[25,150]])"
      ],
      "metadata": {
        "id": "Mc_fgmgGg3TZ"
      },
      "execution_count": null,
      "outputs": []
    },
    {
      "cell_type": "code",
      "source": [
        "plt.scatter(train_input[:, 0], train_input[:, 1]) #이게뭐지\n",
        "plt.scatter(25, 150, marker='^')\n",
        "plt.scatter(train_input[indexes, 0], train_input[indexes, 1], marker='D')\n",
        "plt.xlabel('length')\n",
        "plt.ylabel('weight')\n",
        "plt.show()"
      ],
      "metadata": {
        "colab": {
          "base_uri": "https://localhost:8080/",
          "height": 449
        },
        "id": "DSHjIrSGg8xq",
        "outputId": "2e13d636-750c-4cee-945a-510bb583b0ee"
      },
      "execution_count": null,
      "outputs": [
        {
          "output_type": "display_data",
          "data": {
            "text/plain": [
              "<Figure size 640x480 with 1 Axes>"
            ],
            "image/png": "[encoded data removed]"
          },
          "metadata": {}
        }
      ]
    },
    {
      "cell_type": "code",
      "source": [
        "plt.scatter(train_input[:, 0], train_input[:, 1])\n",
        "plt.scatter(25, 150, marker='^')\n",
        "plt.scatter(train_input[indexes,0], train_input[indexes,1], marker='D')\n",
        "\n",
        "plt.xlim((0,1000)) #기준을 맞춰라 기준을 터무니없게 잡으면 밑에 표 처럼 구분할 수 없다\n",
        "plt.xlabel('length')\n",
        "plt.ylabel('weight')\n",
        "plt.show()"
      ],
      "metadata": {
        "colab": {
          "base_uri": "https://localhost:8080/",
          "height": 449
        },
        "id": "p2zWGy8fhGkC",
        "outputId": "d60d9d61-1511-4aaf-9ebc-87c0ce9caf99"
      },
      "execution_count": null,
      "outputs": [
        {
          "output_type": "display_data",
          "data": {
            "text/plain": [
              "<Figure size 640x480 with 1 Axes>"
            ],
            "image/png": "[encoded data removed]"
          },
          "metadata": {}
        }
      ]
    },
    {
      "cell_type": "code",
      "source": [
        "mean = np.mean(train_input, axis=0)\n",
        "std = np.std(train_input, axis=0)\n",
        "\n",
        "print(mean, std)\n",
        "\n",
        "train_scaled = (train_input - mean) / std # 표준편차"
      ],
      "metadata": {
        "colab": {
          "base_uri": "https://localhost:8080/"
        },
        "id": "F0TMq1Y7i56X",
        "outputId": "b5cbe4f5-a3ac-4849-c11b-53d204eb2af0"
      },
      "execution_count": null,
      "outputs": [
        {
          "output_type": "stream",
          "name": "stdout",
          "text": [
            "[ 23.45277778 312.95833333] [  8.85605525 204.39748364]\n"
          ]
        }
      ]
    },
    {
      "cell_type": "code",
      "source": [
        "new = ([25,150] - mean) / std\n",
        "\n",
        "plt.scatter(train_scaled[:, 0], train_scaled[:, 1])\n",
        "plt.scatter(new[0], new[1], marker='^')\n",
        "plt.xlabel('length')\n",
        "plt.ylabel('weight')\n",
        "plt.show()"
      ],
      "metadata": {
        "colab": {
          "base_uri": "https://localhost:8080/",
          "height": 449
        },
        "id": "GNdDdC8cnIV7",
        "outputId": "0b6d5e02-abc7-4398-e34b-c64fe130328e"
      },
      "execution_count": null,
      "outputs": [
        {
          "output_type": "display_data",
          "data": {
            "text/plain": [
              "<Figure size 640x480 with 1 Axes>"
            ],
            "image/png": "[encoded data removed]"
          },
          "metadata": {}
        }
      ]
    },
    {
      "cell_type": "code",
      "source": [
        "#전처리\n",
        "kn.fit(train_scaled, train_target)\n",
        "test_scaled = (test_input - mean) / std\n",
        "kn.score(test_scaled, test_target)"
      ],
      "metadata": {
        "colab": {
          "base_uri": "https://localhost:8080/"
        },
        "id": "na1KZlS0neYL",
        "outputId": "6b66177a-4103-400a-ec18-03c2d19574ac"
      },
      "execution_count": null,
      "outputs": [
        {
          "output_type": "execute_result",
          "data": {
            "text/plain": [
              "1.0"
            ]
          },
          "metadata": {},
          "execution_count": 27
        }
      ]
    },
    {
      "cell_type": "code",
      "source": [
        "print(kn.predict([new]))"
      ],
      "metadata": {
        "colab": {
          "base_uri": "https://localhost:8080/"
        },
        "id": "yr2l1dbdoLED",
        "outputId": "ee048f1f-6327-44b6-aae9-e984409e55d1"
      },
      "execution_count": null,
      "outputs": [
        {
          "output_type": "stream",
          "name": "stdout",
          "text": [
            "[1.]\n"
          ]
        }
      ]
    },
    {
      "cell_type": "code",
      "source": [
        "distances, indexes = kn.kneighbors([new]) #어떠한 샘플(=new)이 주어지면 샘플(=new)의 가장 가까운 5개를 뽑아서 거리(distance)와 인덱스(=훈련데이터의 인덱스)를 저장(?)"
      ],
      "metadata": {
        "id": "jm5OnhTIoOzb"
      },
      "execution_count": null,
      "outputs": []
    },
    {
      "cell_type": "code",
      "source": [
        "plt.scatter(train_scaled[:, 0], train_scaled[:, 1])\n",
        "plt.scatter(new[0], new[1], marker='^')\n",
        "plt.scatter(train_scaled[indexes, 0], train_scaled[indexes, 1], marker='D')\n",
        "plt.xlabel('length')\n",
        "plt.ylabel('weight')\n",
        "plt.show()\n",
        "#전처리"
      ],
      "metadata": {
        "colab": {
          "base_uri": "https://localhost:8080/",
          "height": 449
        },
        "id": "OViMmqCOoQ9b",
        "outputId": "221dcb4b-e700-498e-b62d-0b749901f583"
      },
      "execution_count": null,
      "outputs": [
        {
          "output_type": "display_data",
          "data": {
            "text/plain": [
              "<Figure size 640x480 with 1 Axes>"
            ],
            "image/png": "[encoded data removed]"
          },
          "metadata": {}
        }
      ]
    },
    {
      "cell_type": "code",
      "source": [
        "mean = np.mean(train_input, axis=0)\n",
        "std = np.std(train_input, axis=0)\n",
        "\n",
        "print(mean, std)\n",
        "\n",
        "train_scaled = (train_input - mean) / std\n"
      ],
      "metadata": {
        "colab": {
          "base_uri": "https://localhost:8080/"
        },
        "id": "ZrGIxMTKos5h",
        "outputId": "8d7885e1-d208-46e2-edea-35f7293cae1e"
      },
      "execution_count": null,
      "outputs": [
        {
          "output_type": "stream",
          "name": "stdout",
          "text": [
            "[ 23.45277778 312.95833333] [  8.85605525 204.39748364]\n"
          ]
        }
      ]
    },
    {
      "cell_type": "code",
      "source": [
        "#6강 [회귀]\n",
        "perch_length = np.array([8.4, 13.7, 15.0, 16.2, 17.4, 18.0, 18.7, 19.0, 19.6, 20.]).reshape(-1, 1)\n",
        "\n",
        "perch_weight = np.array([5.9, 32.0, 40.0, 51.5, 70.0, 100.0, 78.0, 80.0, 85.0, 85.0]).reshape(-1, 1)\n",
        "#2차원 배열로 변환 .reshape(-1, 1) => 행의 개수는 자동 열은 1개 => 샘플 여러개,특성 1개\n",
        "#2차원 배열로 변환 .reshape(1, -1) => 행의 개수는 1개 열은 자동 => 샘플 1개,특성 여러개\n",
        "\n",
        "\n",
        "train_input, test_input, train_target, test_target = train_test_split(\n",
        "perch_length, perch_weight, random_state=42)"
      ],
      "metadata": {
        "id": "4_V2cTcnoXg9"
      },
      "execution_count": null,
      "outputs": []
    },
    {
      "cell_type": "code",
      "source": [
        "from sklearn.neighbors import KNeighborsRegressor\n",
        "\n",
        "knr = KNeighborsRegressor()\n",
        "knr.fit(train_input, train_target)\n",
        "\n",
        "print(knr.score(train_input, train_target))\n",
        "knr.score(test_input, test_target) #점수가 낮다 샘플 데이터가 적어서 일까?\n",
        "\n",
        "#훈련세트 더 높으면 과대적합(0.9 vs 0.6) 훈련세트가 더 낮으면 과소적합(0.6 vs 0.9)\n",
        "#현재 과대적합"
      ],
      "metadata": {
        "colab": {
          "base_uri": "https://localhost:8080/"
        },
        "id": "FhooeZ2RoXZO",
        "outputId": "f9bd76ca-0bc6-4dab-e76c-51505ff2a55a"
      },
      "execution_count": null,
      "outputs": [
        {
          "output_type": "stream",
          "name": "stdout",
          "text": [
            "0.4106339804740893\n"
          ]
        },
        {
          "output_type": "execute_result",
          "data": {
            "text/plain": [
              "0.2562953773831289"
            ]
          },
          "metadata": {},
          "execution_count": 53
        }
      ]
    },
    {
      "cell_type": "code",
      "source": [
        "from sklearn.metrics import mean_absolute_error\n",
        "\n",
        "test_prediction = knr.predict(test_input)\n",
        "\n",
        "mae = mean_absolute_error(test_target, test_prediction)\n",
        "\n",
        "print(mae)"
      ],
      "metadata": {
        "colab": {
          "base_uri": "https://localhost:8080/"
        },
        "id": "9rVhYeKMoXJm",
        "outputId": "b3ffdace-c165-454f-c300-a66a7e0e35ad"
      },
      "execution_count": null,
      "outputs": [
        {
          "output_type": "stream",
          "name": "stdout",
          "text": [
            "23.7\n"
          ]
        }
      ]
    },
    {
      "cell_type": "code",
      "source": [
        "knr.n_neighbors = 3   #이웃의 개수를 바꿔주면 과대적합 과소적합 문제를 해결할 수 있다\n",
        "\n",
        "knr.fit(train_input, train_target)\n",
        "\n",
        "print(knr.score(train_input, train_target))\n",
        "knr.score(test_input, test_target)"
      ],
      "metadata": {
        "colab": {
          "base_uri": "https://localhost:8080/"
        },
        "id": "Lnumt2sEw8fG",
        "outputId": "f9cb0daf-be4d-4920-a8a0-f44e624bcfce"
      },
      "execution_count": null,
      "outputs": [
        {
          "output_type": "stream",
          "name": "stdout",
          "text": [
            "0.8054056039832652\n"
          ]
        },
        {
          "output_type": "execute_result",
          "data": {
            "text/plain": [
              "0.5813419517715678"
            ]
          },
          "metadata": {},
          "execution_count": 70
        }
      ]
    }
  ]
}